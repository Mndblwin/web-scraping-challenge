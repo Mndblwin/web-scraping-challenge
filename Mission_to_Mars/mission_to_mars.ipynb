{
 "metadata": {
  "language_info": {
   "codemirror_mode": {
    "name": "ipython",
    "version": 3
   },
   "file_extension": ".py",
   "mimetype": "text/x-python",
   "name": "python",
   "nbconvert_exporter": "python",
   "pygments_lexer": "ipython3",
   "version": "3.6.10"
  },
  "orig_nbformat": 4,
  "kernelspec": {
   "name": "python3",
   "display_name": "Python 3.6.10 64-bit ('DataBootCamp': conda)"
  },
  "interpreter": {
   "hash": "cf9431fb2f18f4d265e2a8e10d39873690f69d776f1f69bbc20b04b1aea95adf"
  }
 },
 "nbformat": 4,
 "nbformat_minor": 2,
 "cells": [
  {
   "cell_type": "code",
   "execution_count": 10,
   "metadata": {},
   "outputs": [],
   "source": [
    "# Declare Dependencies \n",
    "from bs4 import BeautifulSoup as bs\n",
    "from splinter import Browser\n",
    "import pandas as pd\n",
    "import os\n",
    "import time\n",
    "import requests\n",
    "import pymongo\n"
   ]
  },
  {
   "cell_type": "code",
   "execution_count": 11,
   "metadata": {},
   "outputs": [],
   "source": [
    "executable_path = {\"executable_path\": \"chromedriver.exe\"}\n",
    "browser = Browser(\"chrome\", **executable_path, headless = False)"
   ]
  },
  {
   "cell_type": "code",
   "execution_count": 19,
   "metadata": {},
   "outputs": [
    {
     "output_type": "stream",
     "name": "stdout",
     "text": [
      "None\n<div class=\"article_teaser_body\">The historic image of the rover beside the Mars Helicopter proved to be one of the most complex rover selfies ever taken. Video, with bonus audio, sheds light on the process. </div>\n"
     ]
    }
   ],
   "source": [
    "url = \"https://mars.nasa.gov/news/\"\n",
    "browser.visit(url)\n",
    "\n",
    "# Wait one second to load the page\n",
    "time.sleep(2)\n",
    "\n",
    "# Scrape the page for data\n",
    "html = browser.html\n",
    "soup = bs(html, \"html.parser\")\n",
    "\n",
    "\n",
    "news_title = soup.find ('div', class_='content_title').find('a')\n",
    "news_p = soup.find('div', class_='article_teaser_body')\n",
    "\n",
    "# Display scrapped data \n",
    "print(news_title)\n",
    "print(news_p)\n",
    "\n"
   ]
  },
  {
   "cell_type": "code",
   "execution_count": null,
   "metadata": {},
   "outputs": [],
   "source": []
  }
 ]
}